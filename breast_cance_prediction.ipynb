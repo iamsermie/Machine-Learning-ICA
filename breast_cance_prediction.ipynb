{
 "cells": [
  {
   "cell_type": "code",
   "execution_count": null,
   "metadata": {},
   "outputs": [],
   "source": []
  },
  {
   "cell_type": "code",
   "execution_count": 2,
   "metadata": {},
   "outputs": [],
   "source": [
    "#Importation of Required Library\n",
    "\n",
    "import numpy as np\n",
    "import pandas as pd\n",
    "from sklearn.linear_model import LogisticRegression\n",
    "from sklearn.model_selection import train_test_split\n",
    "from sklearn.preprocessing import MinMaxScaler\n",
    "from sklearn.metrics import accuracy_score\n",
    "from sklearn import preprocessing\n",
    "from sklearn.metrics import confusion_matrix, classification_report\n",
    "import seaborn as sns\n",
    "\n"
   ]
  },
  {
   "cell_type": "code",
   "execution_count": 3,
   "metadata": {},
   "outputs": [
    {
     "data": {
      "text/html": [
       "<div>\n",
       "<style scoped>\n",
       "    .dataframe tbody tr th:only-of-type {\n",
       "        vertical-align: middle;\n",
       "    }\n",
       "\n",
       "    .dataframe tbody tr th {\n",
       "        vertical-align: top;\n",
       "    }\n",
       "\n",
       "    .dataframe thead th {\n",
       "        text-align: right;\n",
       "    }\n",
       "</style>\n",
       "<table border=\"1\" class=\"dataframe\">\n",
       "  <thead>\n",
       "    <tr style=\"text-align: right;\">\n",
       "      <th></th>\n",
       "      <th>diagnosis</th>\n",
       "      <th>radius_mean</th>\n",
       "      <th>texture_mean</th>\n",
       "      <th>perimeter_mean</th>\n",
       "      <th>area_mean</th>\n",
       "      <th>smoothness_mean</th>\n",
       "      <th>compactness_mean</th>\n",
       "      <th>concavity_mean</th>\n",
       "      <th>concave points_mean</th>\n",
       "      <th>symmetry_mean</th>\n",
       "      <th>...</th>\n",
       "      <th>radius_worst</th>\n",
       "      <th>texture_worst</th>\n",
       "      <th>perimeter_worst</th>\n",
       "      <th>area_worst</th>\n",
       "      <th>smoothness_worst</th>\n",
       "      <th>compactness_worst</th>\n",
       "      <th>concavity_worst</th>\n",
       "      <th>concave points_worst</th>\n",
       "      <th>symmetry_worst</th>\n",
       "      <th>fractal_dimension_worst</th>\n",
       "    </tr>\n",
       "    <tr>\n",
       "      <th>id</th>\n",
       "      <th></th>\n",
       "      <th></th>\n",
       "      <th></th>\n",
       "      <th></th>\n",
       "      <th></th>\n",
       "      <th></th>\n",
       "      <th></th>\n",
       "      <th></th>\n",
       "      <th></th>\n",
       "      <th></th>\n",
       "      <th></th>\n",
       "      <th></th>\n",
       "      <th></th>\n",
       "      <th></th>\n",
       "      <th></th>\n",
       "      <th></th>\n",
       "      <th></th>\n",
       "      <th></th>\n",
       "      <th></th>\n",
       "      <th></th>\n",
       "      <th></th>\n",
       "    </tr>\n",
       "  </thead>\n",
       "  <tbody>\n",
       "    <tr>\n",
       "      <th>1</th>\n",
       "      <td>M</td>\n",
       "      <td>0.425053</td>\n",
       "      <td>5.965067</td>\n",
       "      <td>1.878999</td>\n",
       "      <td>-1.922577</td>\n",
       "      <td>-8.191107</td>\n",
       "      <td>-9.662919</td>\n",
       "      <td>-0.619291</td>\n",
       "      <td>-1.315248</td>\n",
       "      <td>-4.107378</td>\n",
       "      <td>...</td>\n",
       "      <td>0.615896</td>\n",
       "      <td>2.002757</td>\n",
       "      <td>-0.201908</td>\n",
       "      <td>0.120528</td>\n",
       "      <td>0.035929</td>\n",
       "      <td>-0.582654</td>\n",
       "      <td>10.078263</td>\n",
       "      <td>3.396570</td>\n",
       "      <td>-0.474207</td>\n",
       "      <td>0.938795</td>\n",
       "    </tr>\n",
       "    <tr>\n",
       "      <th>2</th>\n",
       "      <td>B</td>\n",
       "      <td>-0.720491</td>\n",
       "      <td>1.122032</td>\n",
       "      <td>0.702666</td>\n",
       "      <td>0.588757</td>\n",
       "      <td>-2.897603</td>\n",
       "      <td>6.737809</td>\n",
       "      <td>0.293614</td>\n",
       "      <td>-2.898675</td>\n",
       "      <td>2.812344</td>\n",
       "      <td>...</td>\n",
       "      <td>-1.545681</td>\n",
       "      <td>0.131865</td>\n",
       "      <td>-1.040233</td>\n",
       "      <td>-0.323723</td>\n",
       "      <td>1.218420</td>\n",
       "      <td>0.165080</td>\n",
       "      <td>0.415971</td>\n",
       "      <td>-2.714283</td>\n",
       "      <td>2.652932</td>\n",
       "      <td>-0.403200</td>\n",
       "    </tr>\n",
       "    <tr>\n",
       "      <th>3</th>\n",
       "      <td>B</td>\n",
       "      <td>1.624526</td>\n",
       "      <td>0.466168</td>\n",
       "      <td>1.600550</td>\n",
       "      <td>2.200664</td>\n",
       "      <td>4.272945</td>\n",
       "      <td>2.390065</td>\n",
       "      <td>0.614031</td>\n",
       "      <td>-0.314448</td>\n",
       "      <td>1.867168</td>\n",
       "      <td>...</td>\n",
       "      <td>-0.118669</td>\n",
       "      <td>-1.379621</td>\n",
       "      <td>-1.324658</td>\n",
       "      <td>-0.282837</td>\n",
       "      <td>5.802867</td>\n",
       "      <td>-0.325060</td>\n",
       "      <td>-4.156908</td>\n",
       "      <td>1.968221</td>\n",
       "      <td>-0.054791</td>\n",
       "      <td>0.076663</td>\n",
       "    </tr>\n",
       "    <tr>\n",
       "      <th>4</th>\n",
       "      <td>M</td>\n",
       "      <td>-1.124956</td>\n",
       "      <td>-2.165492</td>\n",
       "      <td>-0.215090</td>\n",
       "      <td>-1.795210</td>\n",
       "      <td>-6.011122</td>\n",
       "      <td>-7.283305</td>\n",
       "      <td>0.147977</td>\n",
       "      <td>-1.520045</td>\n",
       "      <td>-4.330120</td>\n",
       "      <td>...</td>\n",
       "      <td>1.001215</td>\n",
       "      <td>0.350980</td>\n",
       "      <td>-0.173384</td>\n",
       "      <td>1.782559</td>\n",
       "      <td>-2.723687</td>\n",
       "      <td>-6.602257</td>\n",
       "      <td>-8.789461</td>\n",
       "      <td>5.394188</td>\n",
       "      <td>0.201087</td>\n",
       "      <td>-0.310054</td>\n",
       "    </tr>\n",
       "    <tr>\n",
       "      <th>5</th>\n",
       "      <td>B</td>\n",
       "      <td>-0.349488</td>\n",
       "      <td>-1.915211</td>\n",
       "      <td>-2.885086</td>\n",
       "      <td>-0.182034</td>\n",
       "      <td>1.586092</td>\n",
       "      <td>1.645780</td>\n",
       "      <td>-0.532385</td>\n",
       "      <td>-1.009785</td>\n",
       "      <td>-1.919263</td>\n",
       "      <td>...</td>\n",
       "      <td>-0.538012</td>\n",
       "      <td>1.444644</td>\n",
       "      <td>0.758448</td>\n",
       "      <td>-0.303827</td>\n",
       "      <td>4.672285</td>\n",
       "      <td>-5.195357</td>\n",
       "      <td>-3.044978</td>\n",
       "      <td>1.988163</td>\n",
       "      <td>-0.465882</td>\n",
       "      <td>-0.207049</td>\n",
       "    </tr>\n",
       "  </tbody>\n",
       "</table>\n",
       "<p>5 rows × 31 columns</p>\n",
       "</div>"
      ],
      "text/plain": [
       "   diagnosis  radius_mean  texture_mean  perimeter_mean  area_mean  \\\n",
       "id                                                                   \n",
       "1          M     0.425053      5.965067        1.878999  -1.922577   \n",
       "2          B    -0.720491      1.122032        0.702666   0.588757   \n",
       "3          B     1.624526      0.466168        1.600550   2.200664   \n",
       "4          M    -1.124956     -2.165492       -0.215090  -1.795210   \n",
       "5          B    -0.349488     -1.915211       -2.885086  -0.182034   \n",
       "\n",
       "    smoothness_mean  compactness_mean  concavity_mean  concave points_mean  \\\n",
       "id                                                                           \n",
       "1         -8.191107         -9.662919       -0.619291            -1.315248   \n",
       "2         -2.897603          6.737809        0.293614            -2.898675   \n",
       "3          4.272945          2.390065        0.614031            -0.314448   \n",
       "4         -6.011122         -7.283305        0.147977            -1.520045   \n",
       "5          1.586092          1.645780       -0.532385            -1.009785   \n",
       "\n",
       "    symmetry_mean  ...  radius_worst  texture_worst  perimeter_worst  \\\n",
       "id                 ...                                                 \n",
       "1       -4.107378  ...      0.615896       2.002757        -0.201908   \n",
       "2        2.812344  ...     -1.545681       0.131865        -1.040233   \n",
       "3        1.867168  ...     -0.118669      -1.379621        -1.324658   \n",
       "4       -4.330120  ...      1.001215       0.350980        -0.173384   \n",
       "5       -1.919263  ...     -0.538012       1.444644         0.758448   \n",
       "\n",
       "    area_worst  smoothness_worst  compactness_worst  concavity_worst  \\\n",
       "id                                                                     \n",
       "1     0.120528          0.035929          -0.582654        10.078263   \n",
       "2    -0.323723          1.218420           0.165080         0.415971   \n",
       "3    -0.282837          5.802867          -0.325060        -4.156908   \n",
       "4     1.782559         -2.723687          -6.602257        -8.789461   \n",
       "5    -0.303827          4.672285          -5.195357        -3.044978   \n",
       "\n",
       "    concave points_worst  symmetry_worst  fractal_dimension_worst  \n",
       "id                                                                 \n",
       "1               3.396570       -0.474207                 0.938795  \n",
       "2              -2.714283        2.652932                -0.403200  \n",
       "3               1.968221       -0.054791                 0.076663  \n",
       "4               5.394188        0.201087                -0.310054  \n",
       "5               1.988163       -0.465882                -0.207049  \n",
       "\n",
       "[5 rows x 31 columns]"
      ]
     },
     "execution_count": 3,
     "metadata": {},
     "output_type": "execute_result"
    }
   ],
   "source": [
    "#Importation and Loading of Datasets\n",
    "df = pd.read_csv('breast_cancer_updated.csv', index_col=0)\n",
    "df.head()"
   ]
  },
  {
   "cell_type": "code",
   "execution_count": 4,
   "metadata": {},
   "outputs": [
    {
     "data": {
      "text/plain": [
       "(5015, 31)"
      ]
     },
     "execution_count": 4,
     "metadata": {},
     "output_type": "execute_result"
    }
   ],
   "source": [
    "#Shape of the Datsaset Showing the Number of Rows and Columns\n",
    "df.shape"
   ]
  },
  {
   "cell_type": "code",
   "execution_count": 5,
   "metadata": {},
   "outputs": [
    {
     "name": "stdout",
     "output_type": "stream",
     "text": [
      "<class 'pandas.core.frame.DataFrame'>\n",
      "Index: 5015 entries, 1 to 5015\n",
      "Data columns (total 31 columns):\n",
      " #   Column                   Non-Null Count  Dtype  \n",
      "---  ------                   --------------  -----  \n",
      " 0   diagnosis                5015 non-null   object \n",
      " 1   radius_mean              5015 non-null   float64\n",
      " 2   texture_mean             5015 non-null   float64\n",
      " 3   perimeter_mean           5015 non-null   float64\n",
      " 4   area_mean                5015 non-null   float64\n",
      " 5   smoothness_mean          5015 non-null   float64\n",
      " 6   compactness_mean         5015 non-null   float64\n",
      " 7   concavity_mean           5015 non-null   float64\n",
      " 8   concave points_mean      5015 non-null   float64\n",
      " 9   symmetry_mean            5015 non-null   float64\n",
      " 10  fractal_dimension_mean   5015 non-null   float64\n",
      " 11  radius_se                5015 non-null   float64\n",
      " 12  texture_se               5015 non-null   float64\n",
      " 13  perimeter_se             5015 non-null   float64\n",
      " 14  area_se                  5015 non-null   float64\n",
      " 15  smoothness_se            5015 non-null   float64\n",
      " 16  compactness_se           5015 non-null   float64\n",
      " 17  concavity_se             5015 non-null   float64\n",
      " 18  concave points_se        5015 non-null   float64\n",
      " 19  symmetry_se              5015 non-null   float64\n",
      " 20  fractal_dimension_se     5015 non-null   float64\n",
      " 21  radius_worst             5015 non-null   float64\n",
      " 22  texture_worst            5015 non-null   float64\n",
      " 23  perimeter_worst          5015 non-null   float64\n",
      " 24  area_worst               5015 non-null   float64\n",
      " 25  smoothness_worst         5015 non-null   float64\n",
      " 26  compactness_worst        5015 non-null   float64\n",
      " 27  concavity_worst          5015 non-null   float64\n",
      " 28  concave points_worst     5015 non-null   float64\n",
      " 29  symmetry_worst           5015 non-null   float64\n",
      " 30  fractal_dimension_worst  5015 non-null   float64\n",
      "dtypes: float64(30), object(1)\n",
      "memory usage: 1.2+ MB\n"
     ]
    }
   ],
   "source": [
    "df.info()"
   ]
  },
  {
   "cell_type": "code",
   "execution_count": 6,
   "metadata": {},
   "outputs": [
    {
     "data": {
      "text/plain": [
       "diagnosis                  0\n",
       "radius_mean                0\n",
       "texture_mean               0\n",
       "perimeter_mean             0\n",
       "area_mean                  0\n",
       "smoothness_mean            0\n",
       "compactness_mean           0\n",
       "concavity_mean             0\n",
       "concave points_mean        0\n",
       "symmetry_mean              0\n",
       "fractal_dimension_mean     0\n",
       "radius_se                  0\n",
       "texture_se                 0\n",
       "perimeter_se               0\n",
       "area_se                    0\n",
       "smoothness_se              0\n",
       "compactness_se             0\n",
       "concavity_se               0\n",
       "concave points_se          0\n",
       "symmetry_se                0\n",
       "fractal_dimension_se       0\n",
       "radius_worst               0\n",
       "texture_worst              0\n",
       "perimeter_worst            0\n",
       "area_worst                 0\n",
       "smoothness_worst           0\n",
       "compactness_worst          0\n",
       "concavity_worst            0\n",
       "concave points_worst       0\n",
       "symmetry_worst             0\n",
       "fractal_dimension_worst    0\n",
       "dtype: int64"
      ]
     },
     "execution_count": 6,
     "metadata": {},
     "output_type": "execute_result"
    }
   ],
   "source": [
    "#Checking for Missing Values in the Dataset using Columns\n",
    "df.isnull().sum()"
   ]
  },
  {
   "cell_type": "code",
   "execution_count": 7,
   "metadata": {},
   "outputs": [
    {
     "data": {
      "text/plain": [
       "0"
      ]
     },
     "execution_count": 7,
     "metadata": {},
     "output_type": "execute_result"
    }
   ],
   "source": [
    "#Checking for Missing Values in all the Dataset\n",
    "df.isnull().sum().sum()\n",
    "\n",
    "#We have no missing values in the Dataset"
   ]
  },
  {
   "cell_type": "code",
   "execution_count": 8,
   "metadata": {},
   "outputs": [
    {
     "data": {
      "text/plain": [
       "diagnosis\n",
       "M    3149\n",
       "B    1866\n",
       "Name: count, dtype: int64"
      ]
     },
     "execution_count": 8,
     "metadata": {},
     "output_type": "execute_result"
    }
   ],
   "source": [
    "#Counting the numbers of Benign and Malignant Diagnosis\n",
    "#Benign Means the Tumor is not Cancerous\n",
    "#Malignant Means the Tumor is Cancerous\n",
    "df['diagnosis'].value_counts()"
   ]
  },
  {
   "cell_type": "code",
   "execution_count": 18,
   "metadata": {},
   "outputs": [
    {
     "data": {
      "text/plain": [
       "<Axes: ylabel='count'>"
      ]
     },
     "execution_count": 18,
     "metadata": {},
     "output_type": "execute_result"
    },
    {
     "data": {
      "image/png": "[encoded data removed]",
      "text/plain": [
       "<Figure size 640x480 with 1 Axes>"
      ]
     },
     "metadata": {},
     "output_type": "display_data"
    }
   ],
   "source": [
    "#Putting the Diagnosis in a Pie Chart\n",
    "df['diagnosis'].value_counts().plot(kind='pie', autopct='%1.1f%%')"
   ]
  },
  {
   "cell_type": "code",
   "execution_count": 19,
   "metadata": {},
   "outputs": [
    {
     "data": {
      "image/png": "[encoded data removed]",
      "text/plain": [
       "<Figure size 640x480 with 1 Axes>"
      ]
     },
     "metadata": {},
     "output_type": "display_data"
    }
   ],
   "source": [
    "import seaborn as sns\n",
    "import matplotlib.pyplot as plt\n",
    "sns.countplot (x=df['diagnosis'],  label='count')\n",
    "plt.show()"
   ]
  }
 ],
 "metadata": {
  "kernelspec": {
   "display_name": "base",
   "language": "python",
   "name": "python3"
  },
  "language_info": {
   "codemirror_mode": {
    "name": "ipython",
    "version": 3
   },
   "file_extension": ".py",
   "mimetype": "text/x-python",
   "name": "python",
   "nbconvert_exporter": "python",
   "pygments_lexer": "ipython3",
   "version": "3.12.7"
  }
 },
 "nbformat": 4,
 "nbformat_minor": 2
}
