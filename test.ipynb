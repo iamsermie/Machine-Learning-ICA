{
 "cells": [
  {
   "cell_type": "code",
   "execution_count": null,
   "metadata": {},
   "outputs": [],
   "source": [
    "import numpy as np\n",
    "import pandas as pd\n",
    "import matplotlib.pyplot as plt\n",
    "from sklearn.datasets import load_breast_cancer\n",
    "\n",
    "# Load the breast cancer dataset\n",
    "#Importation and Loading of Datasets\n",
    "df = pd.read_csv('breast_cancer_updated.csv', index_col=0)\n",
    "import pandas as pd\n",
    "import matplotlib.pyplot as plt\n",
    "import seaborn as sns\n",
    "\n",
    "# Assuming df is your DataFrame\n",
    "# Replace this with your data loading logic (e.g., df = pd.read_csv('your_file.csv'))\n",
    "# Visualize the features/columns by showing the counts \n",
    "# of observations/rows in each categorical bin. We will use the seaborn package.\n",
    "data = df  \n",
    "# Define plot parameters in a list to avoid repetition\n",
    "plot_params = [\n",
    "    (\"radius_mean\", (0, 0)),\n",
    "    (\"fbs\", (0, 1)),\n",
    "    (\"restecg\", (0, 2)),\n",
    "    (\"exang\", (1, 0)),\n",
    "    (\"slope\", (1, 1)),\n",
    "    (\"target\", (1, 2))\n",
    "]\n",
    "# Create subplots\n",
    "fig, ax = plt.subplots(2, 3, figsize=(15, 10))\n",
    "\n",
    "# Loop through plot_params to create the plots\n",
    "for hue_col, position in plot_params:\n",
    "    sns.countplot(x=\"diagnosis\", hue=hue_col, data=df, ax=ax[position], palette=['#1f77b4', '#ff7f0e', '#2ca02c', '#d62728'])\n",
    "\n",
    "plt.tight_layout()  # Adjust spacing\n",
    "plt.show()"
   ]
  }
 ],
 "metadata": {
  "kernelspec": {
   "display_name": "base",
   "language": "python",
   "name": "python3"
  },
  "language_info": {
   "codemirror_mode": {
    "name": "ipython",
    "version": 3
   },
   "file_extension": ".py",
   "mimetype": "text/x-python",
   "name": "python",
   "nbconvert_exporter": "python",
   "pygments_lexer": "ipython3",
   "version": "3.12.7"
  }
 },
 "nbformat": 4,
 "nbformat_minor": 2
}
